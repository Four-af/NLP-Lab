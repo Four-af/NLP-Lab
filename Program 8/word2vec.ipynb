{
 "cells": [
  {
   "cell_type": "code",
   "execution_count": 19,
   "metadata": {},
   "outputs": [],
   "source": [
    "# Ignore  the warnings\n",
    "import warnings\n",
    "warnings.filterwarnings('always')\n",
    "warnings.filterwarnings('ignore')\n",
    "\n",
    "# data visualisation and manipulation\n",
    "import numpy as np\n",
    "import pandas as pd\n",
    "\n",
    "\n",
    "#nltk\n",
    "import nltk\n",
    "\n",
    "#preprocessing\n",
    "from nltk.corpus import stopwords  #stopwords\n",
    "from nltk import word_tokenize,sent_tokenize # tokenizing\n",
    "from nltk.stem import PorterStemmer,LancasterStemmer  # using the Porter Stemmer and Lancaster Stemmer and others\n",
    "from nltk.stem.snowball import SnowballStemmer\n",
    "from nltk.stem import WordNetLemmatizer  # lammatizer from WordNet\n",
    "\n",
    "# for part-of-speech tagging\n",
    "from nltk import pos_tag\n",
    "\n",
    "# for named entity recognition (NER)\n",
    "from nltk import ne_chunk\n",
    "\n",
    "# vectorizers for creating the document-term-matrix (DTM)\n",
    "from sklearn.feature_extraction.text import TfidfVectorizer,CountVectorizer\n",
    "\n",
    "# BeautifulSoup libraray\n",
    "from bs4 import BeautifulSoup\n",
    "\n",
    "import re # regex\n",
    "\n",
    "#model_selection\n",
    "from sklearn.model_selection import train_test_split,cross_validate\n",
    "from sklearn.model_selection import KFold\n",
    "from sklearn.model_selection import GridSearchCV\n",
    "\n",
    "#evaluation\n",
    "from sklearn.metrics import accuracy_score,roc_auc_score \n",
    "from sklearn.metrics import classification_report\n",
    "\n",
    "#preprocessing scikit\n",
    "\n",
    "#classifiaction.\n",
    "from sklearn.linear_model import LogisticRegression\n",
    "from sklearn.svm import LinearSVC,SVC\n",
    "from sklearn.neighbors import KNeighborsClassifier\n",
    "from sklearn.ensemble import RandomForestClassifier,GradientBoostingClassifier,AdaBoostClassifier\n",
    "from sklearn.tree import DecisionTreeClassifier\n",
    "from sklearn.naive_bayes import GaussianNB,MultinomialNB\n",
    " \n",
    "#stop-words\n",
    "stop_words=set(nltk.corpus.stopwords.words('english'))\n",
    "\n",
    "#keras\n",
    "# import keras\n",
    "from tensorflow import keras\n",
    "from tensorflow.keras.preprocessing.text import one_hot,Tokenizer\n",
    "from tensorflow.keras.preprocessing.sequence import pad_sequences\n",
    "from tensorflow.keras.models import Sequential\n",
    "from tensorflow.keras.layers import Dense , Flatten ,Embedding,Input,LSTM\n",
    "from tensorflow.keras.models import Model\n",
    "from tensorflow.keras.preprocessing.text import text_to_word_sequence\n",
    "\n",
    "#gensim w2v\n",
    "#word2vec\n",
    "from gensim.models import Word2Vec"
   ]
  },
  {
   "cell_type": "code",
   "execution_count": 20,
   "metadata": {},
   "outputs": [],
   "source": [
    "rev_frame=pd.read_csv(r'./imdb.csv')\n",
    "df=rev_frame.copy()\n"
   ]
  },
  {
   "cell_type": "code",
   "execution_count": 21,
   "metadata": {},
   "outputs": [
    {
     "data": {
      "text/html": [
       "<div>\n",
       "<style scoped>\n",
       "    .dataframe tbody tr th:only-of-type {\n",
       "        vertical-align: middle;\n",
       "    }\n",
       "\n",
       "    .dataframe tbody tr th {\n",
       "        vertical-align: top;\n",
       "    }\n",
       "\n",
       "    .dataframe thead th {\n",
       "        text-align: right;\n",
       "    }\n",
       "</style>\n",
       "<table border=\"1\" class=\"dataframe\">\n",
       "  <thead>\n",
       "    <tr style=\"text-align: right;\">\n",
       "      <th></th>\n",
       "      <th>review</th>\n",
       "      <th>sentiment</th>\n",
       "    </tr>\n",
       "  </thead>\n",
       "  <tbody>\n",
       "    <tr>\n",
       "      <th>0</th>\n",
       "      <td>One of the other reviewers has mentioned that ...</td>\n",
       "      <td>positive</td>\n",
       "    </tr>\n",
       "    <tr>\n",
       "      <th>1</th>\n",
       "      <td>A wonderful little production. &lt;br /&gt;&lt;br /&gt;The...</td>\n",
       "      <td>positive</td>\n",
       "    </tr>\n",
       "    <tr>\n",
       "      <th>2</th>\n",
       "      <td>I thought this was a wonderful way to spend ti...</td>\n",
       "      <td>positive</td>\n",
       "    </tr>\n",
       "    <tr>\n",
       "      <th>3</th>\n",
       "      <td>Basically there's a family where a little boy ...</td>\n",
       "      <td>negative</td>\n",
       "    </tr>\n",
       "    <tr>\n",
       "      <th>4</th>\n",
       "      <td>Petter Mattei's \"Love in the Time of Money\" is...</td>\n",
       "      <td>positive</td>\n",
       "    </tr>\n",
       "  </tbody>\n",
       "</table>\n",
       "</div>"
      ],
      "text/plain": [
       "                                              review sentiment\n",
       "0  One of the other reviewers has mentioned that ...  positive\n",
       "1  A wonderful little production. <br /><br />The...  positive\n",
       "2  I thought this was a wonderful way to spend ti...  positive\n",
       "3  Basically there's a family where a little boy ...  negative\n",
       "4  Petter Mattei's \"Love in the Time of Money\" is...  positive"
      ]
     },
     "execution_count": 21,
     "metadata": {},
     "output_type": "execute_result"
    }
   ],
   "source": [
    "df.head()"
   ]
  },
  {
   "cell_type": "code",
   "execution_count": 22,
   "metadata": {},
   "outputs": [
    {
     "data": {
      "text/html": [
       "<div>\n",
       "<style scoped>\n",
       "    .dataframe tbody tr th:only-of-type {\n",
       "        vertical-align: middle;\n",
       "    }\n",
       "\n",
       "    .dataframe tbody tr th {\n",
       "        vertical-align: top;\n",
       "    }\n",
       "\n",
       "    .dataframe thead th {\n",
       "        text-align: right;\n",
       "    }\n",
       "</style>\n",
       "<table border=\"1\" class=\"dataframe\">\n",
       "  <thead>\n",
       "    <tr style=\"text-align: right;\">\n",
       "      <th></th>\n",
       "      <th>review</th>\n",
       "      <th>rating</th>\n",
       "    </tr>\n",
       "  </thead>\n",
       "  <tbody>\n",
       "    <tr>\n",
       "      <th>0</th>\n",
       "      <td>One of the other reviewers has mentioned that ...</td>\n",
       "      <td>1</td>\n",
       "    </tr>\n",
       "    <tr>\n",
       "      <th>1</th>\n",
       "      <td>A wonderful little production. &lt;br /&gt;&lt;br /&gt;The...</td>\n",
       "      <td>1</td>\n",
       "    </tr>\n",
       "    <tr>\n",
       "      <th>2</th>\n",
       "      <td>I thought this was a wonderful way to spend ti...</td>\n",
       "      <td>1</td>\n",
       "    </tr>\n",
       "    <tr>\n",
       "      <th>3</th>\n",
       "      <td>Basically there's a family where a little boy ...</td>\n",
       "      <td>0</td>\n",
       "    </tr>\n",
       "    <tr>\n",
       "      <th>4</th>\n",
       "      <td>Petter Mattei's \"Love in the Time of Money\" is...</td>\n",
       "      <td>1</td>\n",
       "    </tr>\n",
       "  </tbody>\n",
       "</table>\n",
       "</div>"
      ],
      "text/plain": [
       "                                              review  rating\n",
       "0  One of the other reviewers has mentioned that ...       1\n",
       "1  A wonderful little production. <br /><br />The...       1\n",
       "2  I thought this was a wonderful way to spend ti...       1\n",
       "3  Basically there's a family where a little boy ...       0\n",
       "4  Petter Mattei's \"Love in the Time of Money\" is...       1"
      ]
     },
     "execution_count": 22,
     "metadata": {},
     "output_type": "execute_result"
    }
   ],
   "source": [
    "df= df[[\"review\",\"sentiment\"]]\n",
    "# df[\"review\"]=df[\"review\"]\n",
    "df[\"rating\"]=df[\"sentiment\"].apply(lambda x: 1 if x==\"positive\" else 0)\n",
    "df.drop(\"sentiment\",axis=1,inplace=True)\n",
    "df.head()"
   ]
  },
  {
   "cell_type": "code",
   "execution_count": 23,
   "metadata": {},
   "outputs": [
    {
     "name": "stdout",
     "output_type": "stream",
     "text": [
      "(50000, 2)\n"
     ]
    },
    {
     "data": {
      "text/html": [
       "<div>\n",
       "<style scoped>\n",
       "    .dataframe tbody tr th:only-of-type {\n",
       "        vertical-align: middle;\n",
       "    }\n",
       "\n",
       "    .dataframe tbody tr th {\n",
       "        vertical-align: top;\n",
       "    }\n",
       "\n",
       "    .dataframe thead th {\n",
       "        text-align: right;\n",
       "    }\n",
       "</style>\n",
       "<table border=\"1\" class=\"dataframe\">\n",
       "  <thead>\n",
       "    <tr style=\"text-align: right;\">\n",
       "      <th></th>\n",
       "      <th>review</th>\n",
       "      <th>rating</th>\n",
       "    </tr>\n",
       "  </thead>\n",
       "  <tbody>\n",
       "    <tr>\n",
       "      <th>0</th>\n",
       "      <td>One of the other reviewers has mentioned that ...</td>\n",
       "      <td>1</td>\n",
       "    </tr>\n",
       "    <tr>\n",
       "      <th>1</th>\n",
       "      <td>A wonderful little production. &lt;br /&gt;&lt;br /&gt;The...</td>\n",
       "      <td>1</td>\n",
       "    </tr>\n",
       "    <tr>\n",
       "      <th>2</th>\n",
       "      <td>I thought this was a wonderful way to spend ti...</td>\n",
       "      <td>1</td>\n",
       "    </tr>\n",
       "    <tr>\n",
       "      <th>3</th>\n",
       "      <td>Basically there's a family where a little boy ...</td>\n",
       "      <td>0</td>\n",
       "    </tr>\n",
       "    <tr>\n",
       "      <th>4</th>\n",
       "      <td>Petter Mattei's \"Love in the Time of Money\" is...</td>\n",
       "      <td>1</td>\n",
       "    </tr>\n",
       "  </tbody>\n",
       "</table>\n",
       "</div>"
      ],
      "text/plain": [
       "                                              review  rating\n",
       "0  One of the other reviewers has mentioned that ...       1\n",
       "1  A wonderful little production. <br /><br />The...       1\n",
       "2  I thought this was a wonderful way to spend ti...       1\n",
       "3  Basically there's a family where a little boy ...       0\n",
       "4  Petter Mattei's \"Love in the Time of Money\" is...       1"
      ]
     },
     "execution_count": 23,
     "metadata": {},
     "output_type": "execute_result"
    }
   ],
   "source": [
    "print(df.shape)\n",
    "df.head()"
   ]
  },
  {
   "cell_type": "code",
   "execution_count": 24,
   "metadata": {},
   "outputs": [
    {
     "name": "stdout",
     "output_type": "stream",
     "text": [
      "(49582, 2)\n"
     ]
    },
    {
     "data": {
      "text/html": [
       "<div>\n",
       "<style scoped>\n",
       "    .dataframe tbody tr th:only-of-type {\n",
       "        vertical-align: middle;\n",
       "    }\n",
       "\n",
       "    .dataframe tbody tr th {\n",
       "        vertical-align: top;\n",
       "    }\n",
       "\n",
       "    .dataframe thead th {\n",
       "        text-align: right;\n",
       "    }\n",
       "</style>\n",
       "<table border=\"1\" class=\"dataframe\">\n",
       "  <thead>\n",
       "    <tr style=\"text-align: right;\">\n",
       "      <th></th>\n",
       "      <th>review</th>\n",
       "      <th>rating</th>\n",
       "    </tr>\n",
       "  </thead>\n",
       "  <tbody>\n",
       "    <tr>\n",
       "      <th>0</th>\n",
       "      <td>One of the other reviewers has mentioned that ...</td>\n",
       "      <td>1</td>\n",
       "    </tr>\n",
       "    <tr>\n",
       "      <th>1</th>\n",
       "      <td>A wonderful little production. &lt;br /&gt;&lt;br /&gt;The...</td>\n",
       "      <td>1</td>\n",
       "    </tr>\n",
       "    <tr>\n",
       "      <th>2</th>\n",
       "      <td>I thought this was a wonderful way to spend ti...</td>\n",
       "      <td>1</td>\n",
       "    </tr>\n",
       "    <tr>\n",
       "      <th>3</th>\n",
       "      <td>Basically there's a family where a little boy ...</td>\n",
       "      <td>0</td>\n",
       "    </tr>\n",
       "    <tr>\n",
       "      <th>4</th>\n",
       "      <td>Petter Mattei's \"Love in the Time of Money\" is...</td>\n",
       "      <td>1</td>\n",
       "    </tr>\n",
       "  </tbody>\n",
       "</table>\n",
       "</div>"
      ],
      "text/plain": [
       "                                              review  rating\n",
       "0  One of the other reviewers has mentioned that ...       1\n",
       "1  A wonderful little production. <br /><br />The...       1\n",
       "2  I thought this was a wonderful way to spend ti...       1\n",
       "3  Basically there's a family where a little boy ...       0\n",
       "4  Petter Mattei's \"Love in the Time of Money\" is...       1"
      ]
     },
     "execution_count": 24,
     "metadata": {},
     "output_type": "execute_result"
    }
   ],
   "source": [
    "df[\"rating\"].isnull().sum()\n",
    "df.drop_duplicates(subset=[\"rating\",\"review\"],keep=\"first\",inplace=True)\n",
    "print(df.shape)\n",
    "df.head()\n"
   ]
  },
  {
   "cell_type": "code",
   "execution_count": 25,
   "metadata": {},
   "outputs": [
    {
     "name": "stdout",
     "output_type": "stream",
     "text": [
      "One of the other reviewers has mentioned that after watching just 1 Oz episode you'll be hooked. They are right, as this is exactly what happened with me.<br /><br />The first thing that struck me about Oz was its brutality and unflinching scenes of violence, which set in right from the word GO. Trust me, this is not a show for the faint hearted or timid. This show pulls no punches with regards to drugs, sex or violence. Its is hardcore, in the classic use of the word.<br /><br />It is called OZ as that is the nickname given to the Oswald Maximum Security State Penitentary. It focuses mainly on Emerald City, an experimental section of the prison where all the cells have glass fronts and face inwards, so privacy is not high on the agenda. Em City is home to many..Aryans, Muslims, gangstas, Latinos, Christians, Italians, Irish and more....so scuffles, death stares, dodgy dealings and shady agreements are never far away.<br /><br />I would say the main appeal of the show is due to the fact that it goes where other shows wouldn't dare. Forget pretty pictures painted for mainstream audiences, forget charm, forget romance...OZ doesn't mess around. The first episode I ever saw struck me as so nasty it was surreal, I couldn't say I was ready for it, but as I watched more, I developed a taste for Oz, and got accustomed to the high levels of graphic violence. Not just violence, but injustice (crooked guards who'll be sold out for a nickel, inmates who'll kill on order and get away with it, well mannered, middle class inmates being turned into prison bitches due to their lack of street skills or prison experience) Watching Oz, you may become comfortable with what is uncomfortable viewing....thats if you can get in touch with your darker side.\n",
      "\n",
      "\n",
      "A wonderful little production. <br /><br />The filming technique is very unassuming- very old-time-BBC fashion and gives a comforting, and sometimes discomforting, sense of realism to the entire piece. <br /><br />The actors are extremely well chosen- Michael Sheen not only \"has got all the polari\" but he has all the voices down pat too! You can truly see the seamless editing guided by the references to Williams' diary entries, not only is it well worth the watching but it is a terrificly written and performed piece. A masterful production about one of the great master's of comedy and his life. <br /><br />The realism really comes home with the little things: the fantasy of the guard which, rather than use the traditional 'dream' techniques remains solid then disappears. It plays on our knowledge and our senses, particularly with the scenes concerning Orton and Halliwell and the sets (particularly of their flat with Halliwell's murals decorating every surface) are terribly well done.\n",
      "\n",
      "\n",
      "I thought this was a wonderful way to spend time on a too hot summer weekend, sitting in the air conditioned theater and watching a light-hearted comedy. The plot is simplistic, but the dialogue is witty and the characters are likable (even the well bread suspected serial killer). While some may be disappointed when they realize this is not Match Point 2: Risk Addiction, I thought it was proof that Woody Allen is still fully in control of the style many of us have grown to love.<br /><br />This was the most I'd laughed at one of Woody's comedies in years (dare I say a decade?). While I've never been impressed with Scarlet Johanson, in this she managed to tone down her \"sexy\" image and jumped right into a average, but spirited young woman.<br /><br />This may not be the crown jewel of his career, but it was wittier than \"Devil Wears Prada\" and more interesting than \"Superman\" a great comedy to go see with friends.\n",
      "\n",
      "\n",
      "Basically there's a family where a little boy (Jake) thinks there's a zombie in his closet & his parents are fighting all the time.<br /><br />This movie is slower than a soap opera... and suddenly, Jake decides to become Rambo and kill the zombie.<br /><br />OK, first of all when you're going to make a film you must Decide if its a thriller or a drama! As a drama the movie is watchable. Parents are divorcing & arguing like in real life. And then we have Jake with his closet which totally ruins all the film! I expected to see a BOOGEYMAN similar movie, and instead i watched a drama with some meaningless thriller spots.<br /><br />3 out of 10 just for the well playing parents & descent dialogs. As for the shots with Jake: just ignore them.\n",
      "\n",
      "\n",
      "Petter Mattei's \"Love in the Time of Money\" is a visually stunning film to watch. Mr. Mattei offers us a vivid portrait about human relations. This is a movie that seems to be telling us what money, power and success do to people in the different situations we encounter. <br /><br />This being a variation on the Arthur Schnitzler's play about the same theme, the director transfers the action to the present time New York where all these different characters meet and connect. Each one is connected in one way, or another to the next person, but no one seems to know the previous point of contact. Stylishly, the film has a sophisticated luxurious look. We are taken to see how these people live and the world they live in their own habitat.<br /><br />The only thing one gets out of all these souls in the picture is the different stages of loneliness each one inhabits. A big city is not exactly the best place in which human relations find sincere fulfillment, as one discerns is the case with most of the people we encounter.<br /><br />The acting is good under Mr. Mattei's direction. Steve Buscemi, Rosario Dawson, Carol Kane, Michael Imperioli, Adrian Grenier, and the rest of the talented cast, make these characters come alive.<br /><br />We wish Mr. Mattei good luck and await anxiously for his next work.\n",
      "\n",
      "\n"
     ]
    }
   ],
   "source": [
    "for review in df['review'][:5]:\n",
    "    print(review+'\\n'+'\\n')"
   ]
  },
  {
   "cell_type": "code",
   "execution_count": 26,
   "metadata": {},
   "outputs": [
    {
     "data": {
      "text/html": [
       "<div>\n",
       "<style scoped>\n",
       "    .dataframe tbody tr th:only-of-type {\n",
       "        vertical-align: middle;\n",
       "    }\n",
       "\n",
       "    .dataframe tbody tr th {\n",
       "        vertical-align: top;\n",
       "    }\n",
       "\n",
       "    .dataframe thead th {\n",
       "        text-align: right;\n",
       "    }\n",
       "</style>\n",
       "<table border=\"1\" class=\"dataframe\">\n",
       "  <thead>\n",
       "    <tr style=\"text-align: right;\">\n",
       "      <th></th>\n",
       "      <th>review</th>\n",
       "      <th>rating</th>\n",
       "    </tr>\n",
       "  </thead>\n",
       "  <tbody>\n",
       "    <tr>\n",
       "      <th>0</th>\n",
       "      <td>One of the other reviewers has mentioned that ...</td>\n",
       "      <td>1</td>\n",
       "    </tr>\n",
       "    <tr>\n",
       "      <th>1</th>\n",
       "      <td>A wonderful little production. &lt;br /&gt;&lt;br /&gt;The...</td>\n",
       "      <td>1</td>\n",
       "    </tr>\n",
       "    <tr>\n",
       "      <th>2</th>\n",
       "      <td>I thought this was a wonderful way to spend ti...</td>\n",
       "      <td>1</td>\n",
       "    </tr>\n",
       "    <tr>\n",
       "      <th>3</th>\n",
       "      <td>Basically there's a family where a little boy ...</td>\n",
       "      <td>0</td>\n",
       "    </tr>\n",
       "    <tr>\n",
       "      <th>4</th>\n",
       "      <td>Petter Mattei's \"Love in the Time of Money\" is...</td>\n",
       "      <td>1</td>\n",
       "    </tr>\n",
       "  </tbody>\n",
       "</table>\n",
       "</div>"
      ],
      "text/plain": [
       "                                              review  rating\n",
       "0  One of the other reviewers has mentioned that ...       1\n",
       "1  A wonderful little production. <br /><br />The...       1\n",
       "2  I thought this was a wonderful way to spend ti...       1\n",
       "3  Basically there's a family where a little boy ...       0\n",
       "4  Petter Mattei's \"Love in the Time of Money\" is...       1"
      ]
     },
     "execution_count": 26,
     "metadata": {},
     "output_type": "execute_result"
    }
   ],
   "source": [
    "df.head()"
   ]
  },
  {
   "cell_type": "code",
   "execution_count": 27,
   "metadata": {},
   "outputs": [],
   "source": [
    "df[\"sentiment\"]=df[\"rating\"]"
   ]
  },
  {
   "cell_type": "code",
   "execution_count": 28,
   "metadata": {},
   "outputs": [],
   "source": [
    "df.drop(\"rating\",axis=1,inplace=True)"
   ]
  },
  {
   "cell_type": "code",
   "execution_count": 29,
   "metadata": {},
   "outputs": [
    {
     "data": {
      "text/html": [
       "<div>\n",
       "<style scoped>\n",
       "    .dataframe tbody tr th:only-of-type {\n",
       "        vertical-align: middle;\n",
       "    }\n",
       "\n",
       "    .dataframe tbody tr th {\n",
       "        vertical-align: top;\n",
       "    }\n",
       "\n",
       "    .dataframe thead th {\n",
       "        text-align: right;\n",
       "    }\n",
       "</style>\n",
       "<table border=\"1\" class=\"dataframe\">\n",
       "  <thead>\n",
       "    <tr style=\"text-align: right;\">\n",
       "      <th></th>\n",
       "      <th>review</th>\n",
       "      <th>sentiment</th>\n",
       "    </tr>\n",
       "  </thead>\n",
       "  <tbody>\n",
       "    <tr>\n",
       "      <th>0</th>\n",
       "      <td>One of the other reviewers has mentioned that ...</td>\n",
       "      <td>1</td>\n",
       "    </tr>\n",
       "    <tr>\n",
       "      <th>1</th>\n",
       "      <td>A wonderful little production. &lt;br /&gt;&lt;br /&gt;The...</td>\n",
       "      <td>1</td>\n",
       "    </tr>\n",
       "    <tr>\n",
       "      <th>2</th>\n",
       "      <td>I thought this was a wonderful way to spend ti...</td>\n",
       "      <td>1</td>\n",
       "    </tr>\n",
       "    <tr>\n",
       "      <th>3</th>\n",
       "      <td>Basically there's a family where a little boy ...</td>\n",
       "      <td>0</td>\n",
       "    </tr>\n",
       "    <tr>\n",
       "      <th>4</th>\n",
       "      <td>Petter Mattei's \"Love in the Time of Money\" is...</td>\n",
       "      <td>1</td>\n",
       "    </tr>\n",
       "  </tbody>\n",
       "</table>\n",
       "</div>"
      ],
      "text/plain": [
       "                                              review  sentiment\n",
       "0  One of the other reviewers has mentioned that ...          1\n",
       "1  A wonderful little production. <br /><br />The...          1\n",
       "2  I thought this was a wonderful way to spend ti...          1\n",
       "3  Basically there's a family where a little boy ...          0\n",
       "4  Petter Mattei's \"Love in the Time of Money\" is...          1"
      ]
     },
     "execution_count": 29,
     "metadata": {},
     "output_type": "execute_result"
    }
   ],
   "source": [
    "df.head()"
   ]
  },
  {
   "cell_type": "code",
   "execution_count": 30,
   "metadata": {},
   "outputs": [
    {
     "data": {
      "text/plain": [
       "1    24884\n",
       "0    24698\n",
       "Name: sentiment, dtype: int64"
      ]
     },
     "execution_count": 30,
     "metadata": {},
     "output_type": "execute_result"
    }
   ],
   "source": [
    "df[\"sentiment\"].value_counts()  "
   ]
  },
  {
   "cell_type": "code",
   "execution_count": 31,
   "metadata": {},
   "outputs": [],
   "source": [
    "def clean_reviews(review):  \n",
    "    \n",
    "    # 1. Removing html tags\n",
    "    review_text = BeautifulSoup(review,\"lxml\").get_text()\n",
    "    \n",
    "    # 2. Retaining only alphabets.\n",
    "    review_text = re.sub(\"[^a-zA-Z]\",\" \",review_text)\n",
    "    \n",
    "    # 3. Converting to lower case and splitting\n",
    "    word_tokens= review_text.lower().split()\n",
    "    \n",
    "    # 4. Remove stopwords\n",
    "    le=WordNetLemmatizer()\n",
    "    stop_words= set(stopwords.words(\"english\"))     \n",
    "    word_tokens= [le.lemmatize(w) for w in word_tokens if not w in stop_words]\n",
    "    \n",
    "    cleaned_review=\" \".join(word_tokens)\n",
    "    return cleaned_review"
   ]
  },
  {
   "cell_type": "code",
   "execution_count": 32,
   "metadata": {},
   "outputs": [],
   "source": [
    "pos_df=df.loc[df.sentiment==1,:][:50000]\n",
    "neg_df=df.loc[df.sentiment==0,:][:50000]"
   ]
  },
  {
   "cell_type": "code",
   "execution_count": 33,
   "metadata": {},
   "outputs": [
    {
     "data": {
      "text/html": [
       "<div>\n",
       "<style scoped>\n",
       "    .dataframe tbody tr th:only-of-type {\n",
       "        vertical-align: middle;\n",
       "    }\n",
       "\n",
       "    .dataframe tbody tr th {\n",
       "        vertical-align: top;\n",
       "    }\n",
       "\n",
       "    .dataframe thead th {\n",
       "        text-align: right;\n",
       "    }\n",
       "</style>\n",
       "<table border=\"1\" class=\"dataframe\">\n",
       "  <thead>\n",
       "    <tr style=\"text-align: right;\">\n",
       "      <th></th>\n",
       "      <th>review</th>\n",
       "      <th>sentiment</th>\n",
       "    </tr>\n",
       "  </thead>\n",
       "  <tbody>\n",
       "    <tr>\n",
       "      <th>0</th>\n",
       "      <td>One of the other reviewers has mentioned that ...</td>\n",
       "      <td>1</td>\n",
       "    </tr>\n",
       "    <tr>\n",
       "      <th>1</th>\n",
       "      <td>A wonderful little production. &lt;br /&gt;&lt;br /&gt;The...</td>\n",
       "      <td>1</td>\n",
       "    </tr>\n",
       "    <tr>\n",
       "      <th>2</th>\n",
       "      <td>I thought this was a wonderful way to spend ti...</td>\n",
       "      <td>1</td>\n",
       "    </tr>\n",
       "    <tr>\n",
       "      <th>4</th>\n",
       "      <td>Petter Mattei's \"Love in the Time of Money\" is...</td>\n",
       "      <td>1</td>\n",
       "    </tr>\n",
       "    <tr>\n",
       "      <th>5</th>\n",
       "      <td>Probably my all-time favorite movie, a story o...</td>\n",
       "      <td>1</td>\n",
       "    </tr>\n",
       "  </tbody>\n",
       "</table>\n",
       "</div>"
      ],
      "text/plain": [
       "                                              review  sentiment\n",
       "0  One of the other reviewers has mentioned that ...          1\n",
       "1  A wonderful little production. <br /><br />The...          1\n",
       "2  I thought this was a wonderful way to spend ti...          1\n",
       "4  Petter Mattei's \"Love in the Time of Money\" is...          1\n",
       "5  Probably my all-time favorite movie, a story o...          1"
      ]
     },
     "execution_count": 33,
     "metadata": {},
     "output_type": "execute_result"
    }
   ],
   "source": [
    "pos_df.head()"
   ]
  },
  {
   "cell_type": "code",
   "execution_count": 34,
   "metadata": {},
   "outputs": [
    {
     "data": {
      "text/html": [
       "<div>\n",
       "<style scoped>\n",
       "    .dataframe tbody tr th:only-of-type {\n",
       "        vertical-align: middle;\n",
       "    }\n",
       "\n",
       "    .dataframe tbody tr th {\n",
       "        vertical-align: top;\n",
       "    }\n",
       "\n",
       "    .dataframe thead th {\n",
       "        text-align: right;\n",
       "    }\n",
       "</style>\n",
       "<table border=\"1\" class=\"dataframe\">\n",
       "  <thead>\n",
       "    <tr style=\"text-align: right;\">\n",
       "      <th></th>\n",
       "      <th>review</th>\n",
       "      <th>sentiment</th>\n",
       "    </tr>\n",
       "  </thead>\n",
       "  <tbody>\n",
       "    <tr>\n",
       "      <th>3</th>\n",
       "      <td>Basically there's a family where a little boy ...</td>\n",
       "      <td>0</td>\n",
       "    </tr>\n",
       "    <tr>\n",
       "      <th>7</th>\n",
       "      <td>This show was an amazing, fresh &amp; innovative i...</td>\n",
       "      <td>0</td>\n",
       "    </tr>\n",
       "    <tr>\n",
       "      <th>8</th>\n",
       "      <td>Encouraged by the positive comments about this...</td>\n",
       "      <td>0</td>\n",
       "    </tr>\n",
       "    <tr>\n",
       "      <th>10</th>\n",
       "      <td>Phil the Alien is one of those quirky films wh...</td>\n",
       "      <td>0</td>\n",
       "    </tr>\n",
       "    <tr>\n",
       "      <th>11</th>\n",
       "      <td>I saw this movie when I was about 12 when it c...</td>\n",
       "      <td>0</td>\n",
       "    </tr>\n",
       "  </tbody>\n",
       "</table>\n",
       "</div>"
      ],
      "text/plain": [
       "                                               review  sentiment\n",
       "3   Basically there's a family where a little boy ...          0\n",
       "7   This show was an amazing, fresh & innovative i...          0\n",
       "8   Encouraged by the positive comments about this...          0\n",
       "10  Phil the Alien is one of those quirky films wh...          0\n",
       "11  I saw this movie when I was about 12 when it c...          0"
      ]
     },
     "execution_count": 34,
     "metadata": {},
     "output_type": "execute_result"
    }
   ],
   "source": [
    "neg_df.head()"
   ]
  },
  {
   "cell_type": "code",
   "execution_count": 35,
   "metadata": {},
   "outputs": [],
   "source": [
    "df=pd.concat([pos_df,neg_df],ignore_index=True)"
   ]
  },
  {
   "cell_type": "code",
   "execution_count": 36,
   "metadata": {},
   "outputs": [
    {
     "name": "stdout",
     "output_type": "stream",
     "text": [
      "(49582, 2)\n"
     ]
    },
    {
     "data": {
      "text/html": [
       "<div>\n",
       "<style scoped>\n",
       "    .dataframe tbody tr th:only-of-type {\n",
       "        vertical-align: middle;\n",
       "    }\n",
       "\n",
       "    .dataframe tbody tr th {\n",
       "        vertical-align: top;\n",
       "    }\n",
       "\n",
       "    .dataframe thead th {\n",
       "        text-align: right;\n",
       "    }\n",
       "</style>\n",
       "<table border=\"1\" class=\"dataframe\">\n",
       "  <thead>\n",
       "    <tr style=\"text-align: right;\">\n",
       "      <th></th>\n",
       "      <th>review</th>\n",
       "      <th>sentiment</th>\n",
       "    </tr>\n",
       "  </thead>\n",
       "  <tbody>\n",
       "    <tr>\n",
       "      <th>0</th>\n",
       "      <td>One of the other reviewers has mentioned that ...</td>\n",
       "      <td>1</td>\n",
       "    </tr>\n",
       "    <tr>\n",
       "      <th>1</th>\n",
       "      <td>A wonderful little production. &lt;br /&gt;&lt;br /&gt;The...</td>\n",
       "      <td>1</td>\n",
       "    </tr>\n",
       "    <tr>\n",
       "      <th>2</th>\n",
       "      <td>I thought this was a wonderful way to spend ti...</td>\n",
       "      <td>1</td>\n",
       "    </tr>\n",
       "    <tr>\n",
       "      <th>3</th>\n",
       "      <td>Petter Mattei's \"Love in the Time of Money\" is...</td>\n",
       "      <td>1</td>\n",
       "    </tr>\n",
       "    <tr>\n",
       "      <th>4</th>\n",
       "      <td>Probably my all-time favorite movie, a story o...</td>\n",
       "      <td>1</td>\n",
       "    </tr>\n",
       "  </tbody>\n",
       "</table>\n",
       "</div>"
      ],
      "text/plain": [
       "                                              review  sentiment\n",
       "0  One of the other reviewers has mentioned that ...          1\n",
       "1  A wonderful little production. <br /><br />The...          1\n",
       "2  I thought this was a wonderful way to spend ti...          1\n",
       "3  Petter Mattei's \"Love in the Time of Money\" is...          1\n",
       "4  Probably my all-time favorite movie, a story o...          1"
      ]
     },
     "execution_count": 36,
     "metadata": {},
     "output_type": "execute_result"
    }
   ],
   "source": [
    "print(df.shape)\n",
    "df.head()"
   ]
  },
  {
   "cell_type": "code",
   "execution_count": 37,
   "metadata": {},
   "outputs": [
    {
     "name": "stdout",
     "output_type": "stream",
     "text": [
      "(49582, 2)\n"
     ]
    },
    {
     "data": {
      "text/html": [
       "<div>\n",
       "<style scoped>\n",
       "    .dataframe tbody tr th:only-of-type {\n",
       "        vertical-align: middle;\n",
       "    }\n",
       "\n",
       "    .dataframe tbody tr th {\n",
       "        vertical-align: top;\n",
       "    }\n",
       "\n",
       "    .dataframe thead th {\n",
       "        text-align: right;\n",
       "    }\n",
       "</style>\n",
       "<table border=\"1\" class=\"dataframe\">\n",
       "  <thead>\n",
       "    <tr style=\"text-align: right;\">\n",
       "      <th></th>\n",
       "      <th>review</th>\n",
       "      <th>sentiment</th>\n",
       "    </tr>\n",
       "  </thead>\n",
       "  <tbody>\n",
       "    <tr>\n",
       "      <th>0</th>\n",
       "      <td>I tried. God knows I tried to like this Swiss ...</td>\n",
       "      <td>0</td>\n",
       "    </tr>\n",
       "    <tr>\n",
       "      <th>1</th>\n",
       "      <td>A truly masterful piece of filmmaking. It mana...</td>\n",
       "      <td>0</td>\n",
       "    </tr>\n",
       "    <tr>\n",
       "      <th>2</th>\n",
       "      <td>I loved the first \"American Graffiti\" with all...</td>\n",
       "      <td>0</td>\n",
       "    </tr>\n",
       "    <tr>\n",
       "      <th>3</th>\n",
       "      <td>I'm sorry, but \"Star Wars Episode 1\" did not d...</td>\n",
       "      <td>1</td>\n",
       "    </tr>\n",
       "    <tr>\n",
       "      <th>4</th>\n",
       "      <td>...at least during its first half. If it had s...</td>\n",
       "      <td>0</td>\n",
       "    </tr>\n",
       "  </tbody>\n",
       "</table>\n",
       "</div>"
      ],
      "text/plain": [
       "                                              review  sentiment\n",
       "0  I tried. God knows I tried to like this Swiss ...          0\n",
       "1  A truly masterful piece of filmmaking. It mana...          0\n",
       "2  I loved the first \"American Graffiti\" with all...          0\n",
       "3  I'm sorry, but \"Star Wars Episode 1\" did not d...          1\n",
       "4  ...at least during its first half. If it had s...          0"
      ]
     },
     "execution_count": 37,
     "metadata": {},
     "output_type": "execute_result"
    }
   ],
   "source": [
    "df = df.sample(frac=1).reset_index(drop=True)\n",
    "print(df.shape) \n",
    "df.head()"
   ]
  },
  {
   "cell_type": "code",
   "execution_count": 38,
   "metadata": {},
   "outputs": [
    {
     "name": "stdout",
     "output_type": "stream",
     "text": [
      "532586\n",
      "532586\n"
     ]
    }
   ],
   "source": [
    "tokenizer = nltk.data.load('tokenizers/punkt/english.pickle')\n",
    "sentences=[]\n",
    "sum=0\n",
    "for review in df['review']:\n",
    "    sents=tokenizer.tokenize(review.strip())\n",
    "    sum+=len(sents)\n",
    "    for sent in sents:\n",
    "        cleaned_sent=clean_reviews(sent)\n",
    "        sentences.append(cleaned_sent.split()) # can use word_tokenize also.\n",
    "print(sum)\n",
    "print(len(sentences)) "
   ]
  },
  {
   "cell_type": "code",
   "execution_count": 39,
   "metadata": {},
   "outputs": [
    {
     "name": "stdout",
     "output_type": "stream",
     "text": [
      "['tried'] \n",
      "\n",
      "['god', 'know', 'tried', 'like', 'swiss', 'cheese', 'movie', 'story', 'full', 'hole', 'big', 'enough', 'drive', 'horse', 'drawn', 'carriage'] \n",
      "\n",
      "['acting', 'overall', 'even', 'character', 'endearing', 'enough', 'regretted', 'died', 'like', 'recently', 'sprayed', 'roach', 'scattering', 'die', 'gruesome', 'death'] \n",
      "\n",
      "['overall', 'however', 'really', 'scary'] \n",
      "\n",
      "['afterall', 'seen', 'spooky', 'quickly', 'moving', 'figure', 'background', 'since', 'brood', 'back', 'scary', 'briefly'] \n",
      "\n"
     ]
    }
   ],
   "source": [
    "for te in sentences[:5]:\n",
    "    print(te,\"\\n\")"
   ]
  },
  {
   "cell_type": "code",
   "execution_count": 40,
   "metadata": {},
   "outputs": [],
   "source": [
    "import gensim\n",
    "w2v_model=gensim.models.Word2Vec(sentences=sentences,vector_size=300,window=10,min_count=1)"
   ]
  },
  {
   "cell_type": "code",
   "execution_count": 41,
   "metadata": {},
   "outputs": [
    {
     "data": {
      "text/plain": [
       "(55753861, 58626910)"
      ]
     },
     "execution_count": 41,
     "metadata": {},
     "output_type": "execute_result"
    }
   ],
   "source": [
    "w2v_model.train(sentences,epochs=10,total_examples=len(sentences))"
   ]
  },
  {
   "cell_type": "code",
   "execution_count": 42,
   "metadata": {},
   "outputs": [
    {
     "data": {
      "text/plain": [
       "array([-1.37441111e+00,  3.08489472e-01, -8.67421508e-01,  3.66287649e-01,\n",
       "        8.83665204e-01,  1.41539723e-01, -4.90213782e-01, -1.93543985e-01,\n",
       "       -1.40334070e+00, -1.18361628e+00,  1.98303491e-01, -3.53452086e-01,\n",
       "        4.69485074e-02,  6.41956508e-01, -7.04664946e-01,  2.26181120e-01,\n",
       "        5.97196102e-01, -4.30685341e-01,  8.01428437e-01, -2.80584306e-01,\n",
       "       -5.25208235e-01,  1.02479804e+00,  2.95345008e-01, -5.61985672e-02,\n",
       "       -7.47274235e-02, -6.97148621e-01,  1.03884051e-02,  1.74897456e+00,\n",
       "        8.10952485e-01, -1.88209936e-01, -2.48128384e-01,  2.86445826e-01,\n",
       "       -7.94592857e-01,  1.65374860e-01, -1.51221845e-02, -2.05292739e-02,\n",
       "       -5.61785400e-01,  9.42707121e-01, -6.10031486e-01,  3.21156591e-01,\n",
       "        2.57688975e+00,  1.17260027e+00, -1.07648909e+00, -6.89576864e-01,\n",
       "        4.52195019e-01,  5.45259286e-03, -1.65366983e+00,  4.57904279e-01,\n",
       "        4.31134105e-01,  4.38673496e-01, -7.16490686e-01,  1.45987082e+00,\n",
       "        3.65763932e-01,  1.35419166e+00,  9.61407483e-01, -4.50787544e-01,\n",
       "       -8.04971993e-01, -4.46258664e-01,  5.35666645e-01,  1.07920206e+00,\n",
       "       -8.29453111e-01, -1.43409705e+00,  8.42190564e-01, -1.95421666e-01,\n",
       "       -5.16228974e-01, -8.45246613e-01, -4.03884873e-02, -1.23137021e+00,\n",
       "        3.23387891e-01,  2.20609173e-01, -2.27388740e-01,  8.69735330e-02,\n",
       "       -1.13035595e+00, -1.05146527e+00,  1.57218352e-01, -1.21176803e+00,\n",
       "        1.37155402e+00, -1.00003588e+00,  1.26608586e+00, -2.39918247e-01,\n",
       "        1.05132020e+00, -1.04396796e+00,  2.47495040e-01,  1.96566284e-01,\n",
       "        4.87834103e-02, -1.03707969e+00,  3.53158802e-01,  1.27981260e-01,\n",
       "        1.66151655e+00,  1.44113457e+00, -1.24069345e+00,  1.63410068e+00,\n",
       "        6.52862549e-01,  4.73574460e-01, -2.22526222e-01, -7.63539255e-01,\n",
       "       -7.89463520e-02,  1.28674865e+00,  5.61562061e-01,  1.32112825e+00,\n",
       "        1.89203537e+00, -2.12842718e-01,  5.48271835e-01, -1.78978622e+00,\n",
       "       -1.20017767e+00, -1.35280684e-01,  1.03131688e+00,  8.65061343e-01,\n",
       "        8.17204297e-01,  6.01741195e-01,  1.17316091e+00, -8.67952526e-01,\n",
       "        1.88448548e-01, -1.96330801e-01, -1.76956043e-01,  3.92812490e-01,\n",
       "        8.38702321e-01, -4.19628680e-01, -7.26891220e-01,  3.09173822e-01,\n",
       "        4.43359345e-01, -9.19551909e-01,  1.77215433e+00, -4.20103073e-01,\n",
       "        7.59067893e-01,  3.19860339e-01,  3.49634200e-01, -3.06247920e-02,\n",
       "        3.90983939e-01, -6.70086980e-01, -3.01016659e-01, -1.05959201e+00,\n",
       "        5.88639319e-01,  9.49368000e-01,  5.72353423e-01,  1.82054669e-01,\n",
       "       -2.58864909e-01,  3.85167807e-01,  3.27013284e-02,  6.81353688e-01,\n",
       "        9.19878423e-01,  1.31630793e-01, -1.34914920e-01,  9.44553912e-01,\n",
       "       -1.44442904e+00, -8.77318829e-02, -6.16972625e-01, -2.12682396e-01,\n",
       "       -1.05862141e+00,  7.54813194e-01,  9.93418455e-01,  1.17383473e-01,\n",
       "       -2.68047959e-01,  1.54960424e-01,  7.78917372e-01,  4.53765541e-01,\n",
       "        3.90904099e-02,  5.47596455e-01,  1.34224272e+00,  1.10592020e+00,\n",
       "       -3.76279294e-01, -2.70072203e-02,  7.58996069e-01, -1.61025867e-01,\n",
       "       -1.15935075e+00, -3.83011311e-01, -1.32365540e-01,  3.56851250e-01,\n",
       "        4.63934839e-01, -8.55392277e-01,  1.28865135e+00,  1.23967040e+00,\n",
       "        5.85075736e-01,  1.70312002e-01, -9.48066562e-02,  6.26846775e-02,\n",
       "        1.58588737e-01, -1.21962881e+00, -2.19548136e-01,  1.20967555e+00,\n",
       "        5.65781832e-01,  3.21834826e+00,  1.05063188e+00,  8.27103794e-01,\n",
       "       -1.01083148e+00,  7.44565189e-01, -1.03905547e+00, -4.06089723e-01,\n",
       "        7.91950524e-01,  2.20550895e+00, -2.40724653e-01,  1.36437583e+00,\n",
       "       -3.16695094e-01,  1.31332159e+00, -7.16177642e-01,  1.25154868e-01,\n",
       "       -4.75246347e-02, -4.25795019e-01,  2.46900208e-02, -1.18621171e+00,\n",
       "        4.36229944e-01, -1.12350263e-01,  8.30237567e-01,  1.02433634e+00,\n",
       "        3.06035578e-01, -6.64368272e-01,  2.78550945e-02,  6.15905821e-01,\n",
       "        4.63217735e-01, -7.81375647e-01,  6.48613036e-01,  9.97778177e-02,\n",
       "       -8.46993469e-04,  2.65413910e-01,  4.29439783e-01,  8.58176053e-01,\n",
       "       -1.27463713e-01,  2.40159303e-01,  7.20514283e-02,  3.03285480e-01,\n",
       "       -1.11906004e+00, -1.55158222e+00,  3.89074653e-01, -5.85980356e-01,\n",
       "       -1.33601737e+00,  3.02713484e-01, -3.09006631e-01, -1.45712078e-01,\n",
       "       -2.79245079e-01, -1.50009549e+00, -1.29942679e+00, -1.24467802e+00,\n",
       "       -3.76040250e-01,  9.27819759e-02,  1.57306671e+00,  1.07324995e-01,\n",
       "       -6.39308035e-01,  1.76147461e-01, -1.19074452e+00,  7.90466845e-01,\n",
       "       -1.04274535e+00,  7.25853980e-01,  1.33046791e-01, -9.47092772e-01,\n",
       "       -9.54503238e-01,  4.31877434e-01,  1.03164864e+00,  8.39047015e-01,\n",
       "       -7.88599491e-01,  8.04866910e-01,  4.25358236e-01, -8.65333378e-01,\n",
       "        2.37754837e-01,  1.19150960e+00, -6.86233044e-01, -4.03224230e-01,\n",
       "       -8.70258689e-01, -4.81952205e-02,  1.18256032e+00, -3.56961071e-01,\n",
       "       -1.54632881e-01,  1.87403607e+00, -2.99196631e-01, -1.37980795e+00,\n",
       "       -1.38988936e+00,  6.83961689e-01,  1.37092149e+00,  1.51891604e-01,\n",
       "       -1.33214509e+00, -8.21779549e-01,  8.26209068e-01,  1.14721656e+00,\n",
       "        7.20166862e-01,  9.98430848e-01, -3.24467629e-01, -1.65035486e-01,\n",
       "       -8.70192885e-01,  7.34523594e-01, -4.17338610e-01, -2.45820686e-01,\n",
       "       -4.49418157e-01,  1.96049917e+00, -6.66844606e-01, -7.20279634e-01,\n",
       "       -3.52094173e-01,  2.62902737e-01, -2.91054863e-02,  3.74566972e-01,\n",
       "        9.24697578e-01,  9.70786154e-01, -1.24875776e-01, -5.58054209e-01,\n",
       "       -1.54762435e+00,  6.24818027e-01,  9.41775262e-01,  2.72422135e-01,\n",
       "       -9.40930665e-01, -5.88872492e-01,  2.08768725e-01, -2.46129751e-01],\n",
       "      dtype=float32)"
      ]
     },
     "execution_count": 42,
     "metadata": {},
     "output_type": "execute_result"
    }
   ],
   "source": [
    "w2v_model.wv.get_vector('like')"
   ]
  },
  {
   "cell_type": "code",
   "execution_count": 43,
   "metadata": {},
   "outputs": [
    {
     "data": {
      "text/plain": [
       "0.22066134"
      ]
     },
     "execution_count": 43,
     "metadata": {},
     "output_type": "execute_result"
    }
   ],
   "source": [
    "w2v_model.wv.similarity('good','like')"
   ]
  },
  {
   "cell_type": "code",
   "execution_count": 44,
   "metadata": {},
   "outputs": [
    {
     "name": "stdout",
     "output_type": "stream",
     "text": [
      "The total number of words are :  91731\n"
     ]
    }
   ],
   "source": [
    "vocab=list(w2v_model.wv.key_to_index.keys())\n",
    "print(\"The total number of words are : \",len(vocab))"
   ]
  },
  {
   "cell_type": "code",
   "execution_count": 45,
   "metadata": {},
   "outputs": [
    {
     "data": {
      "text/plain": [
       "[('alike', 0.4151833653450012),\n",
       " ('likethe', 0.40006572008132935),\n",
       " ('liqueur', 0.3776463568210602),\n",
       " ('reminded', 0.35796523094177246),\n",
       " ('fullframe', 0.34814512729644775),\n",
       " ('hey', 0.3428112268447876),\n",
       " ('wwwwwwwaaaaaaaaaaaayyyyyyyyyyy', 0.33833152055740356),\n",
       " ('cupidor', 0.33484983444213867),\n",
       " ('movieanyways', 0.33254683017730713),\n",
       " ('ulma', 0.3197789192199707)]"
      ]
     },
     "execution_count": 45,
     "metadata": {},
     "output_type": "execute_result"
    }
   ],
   "source": [
    "w2v_model.wv.most_similar('like')"
   ]
  },
  {
   "cell_type": "code",
   "execution_count": 46,
   "metadata": {},
   "outputs": [
    {
     "data": {
      "text/plain": [
       "0.22066134"
      ]
     },
     "execution_count": 46,
     "metadata": {},
     "output_type": "execute_result"
    }
   ],
   "source": [
    "w2v_model.wv.similarity('good','like')"
   ]
  },
  {
   "cell_type": "code",
   "execution_count": 47,
   "metadata": {},
   "outputs": [
    {
     "name": "stdout",
     "output_type": "stream",
     "text": [
      "The no of words : 91731\n"
     ]
    }
   ],
   "source": [
    "print(\"The no of words :\",len(vocab))"
   ]
  },
  {
   "cell_type": "code",
   "execution_count": 48,
   "metadata": {},
   "outputs": [
    {
     "name": "stdout",
     "output_type": "stream",
     "text": [
      "The no of key-value pairs :  91731\n"
     ]
    }
   ],
   "source": [
    "word_vec_dict={}\n",
    "for word in vocab:\n",
    "  word_vec_dict[word]=w2v_model.wv.get_vector(word)\n",
    "print(\"The no of key-value pairs : \",len(word_vec_dict))\n"
   ]
  },
  {
   "cell_type": "code",
   "execution_count": 49,
   "metadata": {},
   "outputs": [
    {
     "name": "stdout",
     "output_type": "stream",
     "text": [
      "[-0.25376943  0.20972693 -0.18709087 -0.15608032 -0.14511885  0.14971085\n",
      "  0.12208346 -0.5003075  -0.7488885   0.46729234  0.2679968   1.1100959\n",
      " -0.17435041 -0.26999182 -0.19655494 -0.5030448   1.9317528  -0.26780167\n",
      " -0.49663347 -1.1961558  -0.07004051  0.0118979  -0.45718047  0.4884793\n",
      "  0.09873531  0.48907503  1.1510031   0.19667779 -0.73295015 -0.51429826\n",
      " -0.30763856  0.02015868  0.27912217 -0.47253174 -0.02807384  0.2922777\n",
      "  1.8012608   0.25209442 -0.23698469 -0.15904188  1.139602    0.14612818\n",
      " -0.10012694 -0.02799961  0.42243105  1.3335336   0.3228245   0.9075558\n",
      " -0.99512845  1.2488867  -0.17912629 -0.13617982  0.08084754  0.7221096\n",
      "  1.0414921  -0.24974643 -1.5298917  -0.10139339  0.42977327 -1.1003965\n",
      " -0.2610665  -0.24094835  0.22026208 -0.88645923 -0.62157494  0.18178257\n",
      " -0.7307668   0.55484295  1.5732284   0.1666967   1.1594497   0.1934297\n",
      " -1.0521734   0.01447807 -0.6823334  -0.8333639   0.14069392  0.5507962\n",
      " -0.19398601 -1.4705725   0.6528619  -0.14050595  0.12099136  0.4737179\n",
      "  0.70932204  0.17647544  1.6574336   0.6355639   0.2803541  -0.7226274\n",
      " -1.9616348  -0.14323655  0.6439758  -0.05535114  0.6079307  -0.87178296\n",
      " -1.5911154   0.3767514   0.89278287  0.18428214 -0.9494112   0.6379766\n",
      "  0.5578328   0.9232987  -0.27197003 -0.10196183  1.4145353   0.12568669\n",
      "  0.8318243   0.13817535  0.66970956  1.5354668  -0.2231413   1.1382091\n",
      " -0.22590306 -1.41036    -0.33527336  0.5374154   0.75173587  1.1331294\n",
      " -0.4512001  -0.98680353  0.4000772  -1.091116   -1.4506435   0.5152592\n",
      "  0.03230825  1.4756542  -0.06304032  0.04493     1.2591276  -0.7069804\n",
      "  0.52826285 -0.95278984 -0.8381343   0.6925601   1.441415    1.0607928\n",
      "  1.00749     0.50785583 -0.8657339   0.27757183 -1.6315842   0.28673837\n",
      " -1.3367429  -0.00213974  1.2391742  -0.74354213 -0.39917433 -0.19058442\n",
      " -0.00672621  0.59366107 -0.21756    -0.8428725  -0.15004306  0.13033701\n",
      "  1.2546269  -0.32242852  1.5407847   0.00863991 -1.535063   -0.6423453\n",
      "  0.8281337  -1.139677    0.51772135 -0.34186143 -1.1383522  -0.07353076\n",
      "  0.05574568  0.4979583   1.2451986  -1.5706787  -0.7750249   0.26782715\n",
      "  1.6166971  -0.19216342 -1.0051758   0.6062012   0.66741306  0.02240941\n",
      "  0.27852607 -0.36613455 -0.31657684  1.6439487  -0.57904387 -0.66435844\n",
      " -0.8126059  -0.73548955  0.24041034  0.21937759 -0.2040059   0.754125\n",
      "  0.82739437 -0.95537424 -0.47308746  1.4845726   1.119032    0.9698211\n",
      " -0.01187592  1.4959948   0.21766226 -0.92457306  1.1456226   0.40335196\n",
      "  0.28646746 -0.9549632   1.7579123  -0.44836247  0.882876    0.1263705\n",
      " -0.3219486   0.13790748  0.46169606  0.42886564 -0.22651578 -0.5450739\n",
      "  0.9057743   0.5198272  -0.27029714 -0.21131948 -1.7812113  -0.6969735\n",
      "  0.22477053 -1.8007727   0.6089639   1.1227419  -0.7574965  -0.22563156\n",
      "  0.5522759   0.18717143 -0.53064716  1.481937    0.6637827  -0.41473958\n",
      "  0.19634998  0.53994626  0.4704995   0.55131847  0.2121105   0.73742115\n",
      "  0.6097873   0.06955545 -0.6456351   0.7460206   1.1394621   0.5219222\n",
      " -0.15828891  0.9774554   0.1653535  -0.5056935  -0.17086971 -0.24704695\n",
      " -0.37257472 -0.8306598  -0.5841891  -1.1927232  -1.0727725  -1.7505821\n",
      "  0.68198544 -0.19465667  0.3170804  -0.3261225   0.917564    0.02027309\n",
      " -0.5132105  -0.46881837  0.09935374 -0.8256071  -0.6530406   0.70766264\n",
      "  1.6066636  -1.4648663   0.32622615 -0.51594675  1.1555423   1.6805397\n",
      " -1.2336133   0.70190686  0.7569946   0.00463374 -0.10001141  0.7064215\n",
      " -0.08978349 -0.9639591  -1.3693174   0.11148915 -0.19843994 -0.9805067\n",
      "  0.34773117  0.11607216 -0.5328198   0.4335562  -0.3510197  -0.45211634\n",
      "  1.3225006  -1.8300891  -0.8649521   0.24907818 -0.47665113 -0.53058016]\n",
      "[ 0.42604038 -0.08355162  0.2572887  -0.5382896  -0.910557   -1.1015846\n",
      "  0.0787651   0.22153531  0.24332696 -0.27467757  0.30612218  1.5549141\n",
      " -0.19280273  0.1183463  -0.5786386  -0.29059988  1.8063967  -0.5779328\n",
      " -0.29415047 -0.21069731  0.03848018  0.55260324 -0.19625703  1.0680447\n",
      "  0.07868033  0.83441246  1.2997265   0.6191623   0.13529287 -0.38218528\n",
      "  0.16731995 -0.83088875 -0.532524   -0.904909    0.33074275 -0.76951176\n",
      "  1.2318037  -0.28301153  0.3715825  -0.1941819   1.5176321  -0.23014641\n",
      "  1.151622    0.47929654 -0.19511452  1.3709164  -0.00706231  1.2359793\n",
      " -1.4130217   1.2326267   0.48256177 -0.86228853 -1.5761739  -0.8376176\n",
      "  0.4156202   0.947852   -0.9518162   0.7129      0.9487586  -0.59465855\n",
      " -0.4078981  -0.21034795  0.2919895  -0.36778122 -0.743073    0.58375204\n",
      " -0.06857714  0.34134915  2.0443869  -0.2459597   0.92328066  0.09822939\n",
      " -0.97340715  0.17997082 -0.7360893  -0.7502752  -0.9050017   0.6525194\n",
      " -0.6738739  -0.73278886  0.9298029   0.47322416 -0.26152122  1.3776635\n",
      "  0.9696226   0.12658153  0.84392905  0.04945478 -0.15144321 -0.97078305\n",
      " -2.01004    -1.3392087   0.1818469   0.80590177  0.5918715  -0.9582164\n",
      " -0.9514047   0.31822115  0.95152974  0.25912708 -1.759529   -0.3133488\n",
      "  0.09909304  0.53234607 -0.8116506   0.32455483  0.19908008  0.07244845\n",
      "  0.41182923  0.03947208 -0.04692344  1.7312376  -0.82224053  0.5881736\n",
      " -0.37006974 -0.98612416 -0.39494425  1.1020985   0.39703315  0.6403525\n",
      " -0.6108946  -1.196768    0.31152892 -1.1193789  -1.122756    0.47508982\n",
      " -0.53908473  1.9091647  -1.2160587  -0.39783457  1.0469946  -0.9342705\n",
      "  0.5455456  -0.28132293 -0.31320068 -0.3312671   2.4021187   0.6368899\n",
      "  1.2750635   0.60960376 -0.40942857  0.23009114 -2.108433    0.16564167\n",
      " -0.57240117 -0.32361665  1.5959332   0.06139977 -1.1145132   0.03337503\n",
      " -0.14640367  0.959157   -1.3755212   0.08680145  0.65775514 -0.2916122\n",
      "  0.9520749  -1.1865036   1.3891442  -0.973829   -1.4743935  -0.7110409\n",
      "  0.96417713 -0.9716945   1.0688494  -0.13422188 -0.17772579  0.2672664\n",
      " -0.936076    0.04557713  1.00857    -0.6001686  -1.3553644   0.28765926\n",
      "  1.4960608   0.39863515 -0.7803609   1.4304085   0.92098033 -0.06700721\n",
      " -0.4995159  -0.5341897   0.8613756   1.1560756   0.09754903 -0.39629972\n",
      "  0.0395558  -0.23821309  0.60581225  0.8657192  -0.829417    0.06330362\n",
      "  1.0519718  -0.9673088  -0.55453277  1.0467519   0.15733953  1.0266877\n",
      "  0.267217    0.79722464 -0.12733102 -0.27421007  1.3388191   0.56840867\n",
      "  0.02447599 -0.9868511   0.8622676  -0.85038847  1.0268878   0.94227713\n",
      " -0.40900153  0.4203748   0.24681793 -0.0131188  -0.5581149  -1.0145789\n",
      "  1.4543883   0.7310099  -0.73857987 -0.8253488  -1.1284001  -0.7200279\n",
      "  0.36614716 -0.28928554  1.178176   -0.4083942  -1.1556776  -0.01333962\n",
      "  0.13729763  0.8829215  -0.5531042   0.9952851   0.01638623  0.2978654\n",
      "  0.5711855   0.94084287  1.0456052   0.65473825  0.3049411   0.27139786\n",
      "  1.1758636   0.16073178 -1.3976533   0.14804517  0.68364775  0.06415864\n",
      " -1.0840914   0.47616243  0.10037214 -0.22178747 -0.666257    0.41665694\n",
      " -0.53422624 -1.1088586   0.2336608  -1.1548791  -0.6779172  -0.49497858\n",
      "  0.00899018 -0.6381729   0.12298996 -0.6688581   1.2623824   0.36923647\n",
      " -0.40126967 -0.2621687   0.16315037 -0.7670519   0.03671002  0.35950276\n",
      "  1.3874923  -1.5220262   0.27583233 -0.42120025  1.6973095   1.8799282\n",
      " -0.28606367  0.20733923  0.9219818  -0.43207723  0.16734445  1.0777386\n",
      " -0.35779238 -1.2950505  -0.46880156 -0.46794575  0.5110882  -0.08712378\n",
      " -0.07896291 -0.493048   -0.1024348   0.5851028  -0.33607823 -0.44434625\n",
      "  0.7952977  -1.0852048  -0.90991884  1.1341857  -0.05973045  0.2629845 ]\n",
      "[ 8.57491553e-01 -1.01766741e+00 -5.10143459e-01  1.26780361e-01\n",
      "  2.47014016e-01  7.73453474e-01  8.99952650e-01 -7.81461596e-01\n",
      "  9.79017019e-02 -1.02014141e-02  2.75452107e-01  1.03664792e+00\n",
      " -2.41247103e-01 -5.18590659e-02 -1.17245591e+00 -1.23802352e+00\n",
      "  1.07775295e+00  9.60077941e-02  1.24007559e+00 -2.92893648e-01\n",
      " -5.22352099e-01 -6.55153513e-01 -5.44781804e-01  2.30875954e-01\n",
      "  1.01736236e+00 -1.60452321e-01 -9.61584985e-01 -1.43534094e-01\n",
      "  3.61863106e-01  1.58373967e-01  9.76574793e-02 -3.65562260e-01\n",
      " -5.11382580e-01  1.57824412e-01 -8.86903703e-01  1.81712523e-01\n",
      " -5.48966527e-01 -8.30354616e-02  8.68098319e-01 -1.20223701e+00\n",
      "  1.78297150e+00 -4.37831789e-01 -2.81219512e-01 -5.06733060e-01\n",
      " -3.81046563e-01  3.25691313e-01 -3.80198628e-01 -3.64922643e-01\n",
      " -3.18890899e-01  8.53867531e-01  6.62514687e-01 -1.16168392e+00\n",
      " -6.36892617e-01  5.70775509e-01 -8.67004573e-01 -5.69171786e-01\n",
      " -1.04606676e+00 -1.17322016e+00 -8.22401166e-01 -7.66797721e-01\n",
      " -1.06873595e-04  1.78497851e-01 -7.67318010e-02 -1.78064346e-01\n",
      " -4.17777836e-01 -4.08143550e-02 -1.37490854e-01 -1.86507732e-01\n",
      "  3.22096258e-01 -1.09488928e+00  6.40494943e-01  8.03376853e-01\n",
      " -1.43794632e+00  5.65216124e-01 -6.81120455e-01 -3.49657595e-01\n",
      " -3.84476632e-01  6.53600276e-01 -3.54987293e-01  4.94107381e-02\n",
      "  1.98549139e+00  1.62933514e-01  3.41661662e-01 -6.57934308e-01\n",
      " -3.31651494e-02 -9.29250598e-01 -1.36651173e-01  1.07406032e+00\n",
      " -1.98548281e-04 -9.72908735e-01  4.32734489e-01  4.74910438e-01\n",
      " -1.19655859e+00  6.52195394e-01 -7.06536710e-01  4.60146636e-01\n",
      " -7.91180909e-01  1.68778256e-01  1.35693744e-01  1.31495237e-01\n",
      "  4.13006604e-01 -4.40848172e-01  9.91377175e-01  4.99802917e-01\n",
      " -3.67402993e-02  1.01763248e+00  9.48119611e-02 -2.21069440e-01\n",
      "  1.47252429e+00 -1.09410548e+00  1.66796088e+00 -5.96777163e-02\n",
      "  5.50800979e-01  8.23777378e-01 -8.73308301e-01 -1.05084836e+00\n",
      " -4.39185917e-01  4.12328124e-01 -1.08079636e+00 -5.14494061e-01\n",
      " -1.58687383e-01  1.72820106e-01 -3.16516429e-01 -1.14687181e+00\n",
      " -8.90668154e-01 -5.24830818e-02 -7.20308125e-01  1.16306829e+00\n",
      "  5.75542040e-02 -7.87340775e-02  7.92141482e-02  5.00789523e-01\n",
      "  1.31424499e+00  1.54708222e-01 -5.08543730e-01  6.44972503e-01\n",
      "  4.30436879e-01  1.08063251e-01  4.06815648e-01  9.08581257e-01\n",
      " -3.40397090e-01  7.43571520e-01  2.19659075e-01  3.02846521e-01\n",
      " -2.84640610e-01 -9.97350037e-01 -5.34321487e-01 -9.90612153e-03\n",
      "  3.53664994e-01 -3.87211025e-01 -1.47533309e+00  1.03758097e+00\n",
      "  1.22228026e+00 -4.02543209e-02 -3.40418428e-01  1.19613647e-01\n",
      "  1.95957154e-01  5.65701365e-01  1.00388908e+00  2.07849666e-01\n",
      " -3.10059339e-01 -1.26561418e-01 -2.74172425e-01  4.02626116e-03\n",
      "  9.95395660e-01  1.22544587e-01 -1.08534552e-01 -4.41709578e-01\n",
      " -3.10925364e-01 -1.07388806e+00  1.44426823e+00 -3.62681240e-01\n",
      "  1.57209188e-02  7.24882409e-02 -2.15774864e-01 -7.63493329e-02\n",
      " -9.72424328e-01  5.99141121e-01  1.30279139e-01 -9.86237302e-02\n",
      " -5.69424272e-01 -5.84617913e-01 -4.32964474e-01  1.47622371e+00\n",
      "  5.70496321e-01 -9.56422031e-01 -2.71045715e-01  4.83416796e-01\n",
      "  1.38948774e+00 -9.89810407e-01 -7.40530789e-01 -2.54194826e-01\n",
      " -5.65679133e-01 -2.18188256e-01 -4.06505257e-01  5.21505773e-02\n",
      " -2.57062111e-02  4.65731382e-01  4.49197918e-01  4.38363165e-01\n",
      "  3.75352293e-01  4.81890053e-01  7.46880054e-01  2.32316852e-01\n",
      " -5.94803870e-01  1.00401126e-01  7.05522716e-01 -7.20389366e-01\n",
      "  2.65167892e-01  6.39974356e-01  5.83869934e-01 -4.07555878e-01\n",
      " -5.42212538e-02  4.72236514e-01 -2.71913260e-01  2.34371006e-01\n",
      "  4.49320078e-01 -5.05910456e-01 -4.55979705e-01  8.91824290e-02\n",
      "  3.33961844e-01 -6.87067389e-01  4.83770579e-01 -7.68630743e-01\n",
      " -4.27313119e-01  4.49497879e-01  2.56347507e-02 -4.57897484e-02\n",
      "  7.74271250e-01  2.12300405e-01 -8.51798236e-01 -3.95793051e-01\n",
      "  1.00734794e+00  8.68536413e-01  4.30205375e-01  8.50386262e-01\n",
      " -5.82676411e-01  8.71077329e-02 -6.05650106e-03  3.39367509e-01\n",
      "  2.50665814e-01  1.21825659e+00 -8.35740924e-01 -2.33361080e-01\n",
      "  4.46303748e-02  3.80450845e-01 -1.62411499e+00  5.06302416e-01\n",
      " -2.94657528e-01 -3.28775465e-01 -1.21620715e+00 -3.65879744e-01\n",
      " -8.25767040e-01  1.93824857e-01  8.85995328e-01  2.33568698e-01\n",
      " -3.39131206e-01  7.03175366e-02  1.84128249e+00 -2.75608540e-01\n",
      "  3.59323412e-01  2.60168731e-01  9.54675436e-01 -3.17113876e-01\n",
      " -4.45280522e-01 -7.53777996e-02  1.72761530e-01 -8.95899296e-01\n",
      "  1.26359373e-01 -1.11116178e-01 -1.13448173e-01 -1.14623225e+00\n",
      " -3.83260429e-01  8.20105314e-01  9.43842709e-01 -1.67408481e-01\n",
      " -5.58227208e-03  5.80324292e-01  7.92501032e-01 -9.97966528e-01\n",
      " -1.41069221e+00 -3.23953032e-01  3.89396638e-01 -2.74344981e-01\n",
      "  1.06521741e-01  1.60190627e-01  2.20215783e-01 -7.58886874e-01\n",
      " -1.14310122e+00  2.79384464e-01 -9.58898485e-01 -4.38640445e-01\n",
      " -4.20402549e-02  3.43879163e-02  4.89273131e-01 -5.02719343e-01\n",
      " -1.94930419e-01  5.54671168e-01 -6.41675949e-01 -4.08923835e-01]\n",
      "[-1.37441111e+00  3.08489472e-01 -8.67421508e-01  3.66287649e-01\n",
      "  8.83665204e-01  1.41539723e-01 -4.90213782e-01 -1.93543985e-01\n",
      " -1.40334070e+00 -1.18361628e+00  1.98303491e-01 -3.53452086e-01\n",
      "  4.69485074e-02  6.41956508e-01 -7.04664946e-01  2.26181120e-01\n",
      "  5.97196102e-01 -4.30685341e-01  8.01428437e-01 -2.80584306e-01\n",
      " -5.25208235e-01  1.02479804e+00  2.95345008e-01 -5.61985672e-02\n",
      " -7.47274235e-02 -6.97148621e-01  1.03884051e-02  1.74897456e+00\n",
      "  8.10952485e-01 -1.88209936e-01 -2.48128384e-01  2.86445826e-01\n",
      " -7.94592857e-01  1.65374860e-01 -1.51221845e-02 -2.05292739e-02\n",
      " -5.61785400e-01  9.42707121e-01 -6.10031486e-01  3.21156591e-01\n",
      "  2.57688975e+00  1.17260027e+00 -1.07648909e+00 -6.89576864e-01\n",
      "  4.52195019e-01  5.45259286e-03 -1.65366983e+00  4.57904279e-01\n",
      "  4.31134105e-01  4.38673496e-01 -7.16490686e-01  1.45987082e+00\n",
      "  3.65763932e-01  1.35419166e+00  9.61407483e-01 -4.50787544e-01\n",
      " -8.04971993e-01 -4.46258664e-01  5.35666645e-01  1.07920206e+00\n",
      " -8.29453111e-01 -1.43409705e+00  8.42190564e-01 -1.95421666e-01\n",
      " -5.16228974e-01 -8.45246613e-01 -4.03884873e-02 -1.23137021e+00\n",
      "  3.23387891e-01  2.20609173e-01 -2.27388740e-01  8.69735330e-02\n",
      " -1.13035595e+00 -1.05146527e+00  1.57218352e-01 -1.21176803e+00\n",
      "  1.37155402e+00 -1.00003588e+00  1.26608586e+00 -2.39918247e-01\n",
      "  1.05132020e+00 -1.04396796e+00  2.47495040e-01  1.96566284e-01\n",
      "  4.87834103e-02 -1.03707969e+00  3.53158802e-01  1.27981260e-01\n",
      "  1.66151655e+00  1.44113457e+00 -1.24069345e+00  1.63410068e+00\n",
      "  6.52862549e-01  4.73574460e-01 -2.22526222e-01 -7.63539255e-01\n",
      " -7.89463520e-02  1.28674865e+00  5.61562061e-01  1.32112825e+00\n",
      "  1.89203537e+00 -2.12842718e-01  5.48271835e-01 -1.78978622e+00\n",
      " -1.20017767e+00 -1.35280684e-01  1.03131688e+00  8.65061343e-01\n",
      "  8.17204297e-01  6.01741195e-01  1.17316091e+00 -8.67952526e-01\n",
      "  1.88448548e-01 -1.96330801e-01 -1.76956043e-01  3.92812490e-01\n",
      "  8.38702321e-01 -4.19628680e-01 -7.26891220e-01  3.09173822e-01\n",
      "  4.43359345e-01 -9.19551909e-01  1.77215433e+00 -4.20103073e-01\n",
      "  7.59067893e-01  3.19860339e-01  3.49634200e-01 -3.06247920e-02\n",
      "  3.90983939e-01 -6.70086980e-01 -3.01016659e-01 -1.05959201e+00\n",
      "  5.88639319e-01  9.49368000e-01  5.72353423e-01  1.82054669e-01\n",
      " -2.58864909e-01  3.85167807e-01  3.27013284e-02  6.81353688e-01\n",
      "  9.19878423e-01  1.31630793e-01 -1.34914920e-01  9.44553912e-01\n",
      " -1.44442904e+00 -8.77318829e-02 -6.16972625e-01 -2.12682396e-01\n",
      " -1.05862141e+00  7.54813194e-01  9.93418455e-01  1.17383473e-01\n",
      " -2.68047959e-01  1.54960424e-01  7.78917372e-01  4.53765541e-01\n",
      "  3.90904099e-02  5.47596455e-01  1.34224272e+00  1.10592020e+00\n",
      " -3.76279294e-01 -2.70072203e-02  7.58996069e-01 -1.61025867e-01\n",
      " -1.15935075e+00 -3.83011311e-01 -1.32365540e-01  3.56851250e-01\n",
      "  4.63934839e-01 -8.55392277e-01  1.28865135e+00  1.23967040e+00\n",
      "  5.85075736e-01  1.70312002e-01 -9.48066562e-02  6.26846775e-02\n",
      "  1.58588737e-01 -1.21962881e+00 -2.19548136e-01  1.20967555e+00\n",
      "  5.65781832e-01  3.21834826e+00  1.05063188e+00  8.27103794e-01\n",
      " -1.01083148e+00  7.44565189e-01 -1.03905547e+00 -4.06089723e-01\n",
      "  7.91950524e-01  2.20550895e+00 -2.40724653e-01  1.36437583e+00\n",
      " -3.16695094e-01  1.31332159e+00 -7.16177642e-01  1.25154868e-01\n",
      " -4.75246347e-02 -4.25795019e-01  2.46900208e-02 -1.18621171e+00\n",
      "  4.36229944e-01 -1.12350263e-01  8.30237567e-01  1.02433634e+00\n",
      "  3.06035578e-01 -6.64368272e-01  2.78550945e-02  6.15905821e-01\n",
      "  4.63217735e-01 -7.81375647e-01  6.48613036e-01  9.97778177e-02\n",
      " -8.46993469e-04  2.65413910e-01  4.29439783e-01  8.58176053e-01\n",
      " -1.27463713e-01  2.40159303e-01  7.20514283e-02  3.03285480e-01\n",
      " -1.11906004e+00 -1.55158222e+00  3.89074653e-01 -5.85980356e-01\n",
      " -1.33601737e+00  3.02713484e-01 -3.09006631e-01 -1.45712078e-01\n",
      " -2.79245079e-01 -1.50009549e+00 -1.29942679e+00 -1.24467802e+00\n",
      " -3.76040250e-01  9.27819759e-02  1.57306671e+00  1.07324995e-01\n",
      " -6.39308035e-01  1.76147461e-01 -1.19074452e+00  7.90466845e-01\n",
      " -1.04274535e+00  7.25853980e-01  1.33046791e-01 -9.47092772e-01\n",
      " -9.54503238e-01  4.31877434e-01  1.03164864e+00  8.39047015e-01\n",
      " -7.88599491e-01  8.04866910e-01  4.25358236e-01 -8.65333378e-01\n",
      "  2.37754837e-01  1.19150960e+00 -6.86233044e-01 -4.03224230e-01\n",
      " -8.70258689e-01 -4.81952205e-02  1.18256032e+00 -3.56961071e-01\n",
      " -1.54632881e-01  1.87403607e+00 -2.99196631e-01 -1.37980795e+00\n",
      " -1.38988936e+00  6.83961689e-01  1.37092149e+00  1.51891604e-01\n",
      " -1.33214509e+00 -8.21779549e-01  8.26209068e-01  1.14721656e+00\n",
      "  7.20166862e-01  9.98430848e-01 -3.24467629e-01 -1.65035486e-01\n",
      " -8.70192885e-01  7.34523594e-01 -4.17338610e-01 -2.45820686e-01\n",
      " -4.49418157e-01  1.96049917e+00 -6.66844606e-01 -7.20279634e-01\n",
      " -3.52094173e-01  2.62902737e-01 -2.91054863e-02  3.74566972e-01\n",
      "  9.24697578e-01  9.70786154e-01 -1.24875776e-01 -5.58054209e-01\n",
      " -1.54762435e+00  6.24818027e-01  9.41775262e-01  2.72422135e-01\n",
      " -9.40930665e-01 -5.88872492e-01  2.08768725e-01 -2.46129751e-01]\n",
      "[ 0.98940873 -0.14262141 -0.07838408 -1.8755187   0.56828994  1.8854616\n",
      " -0.22499934  0.04208073 -0.2585789  -2.2063122  -0.68292975  0.9898555\n",
      " -0.76081073 -1.414586   -1.2525877   0.30453292  2.096254   -0.36929122\n",
      "  0.9586304   0.22352599 -0.10113523  0.14159429  0.30373693  0.09221382\n",
      "  1.2003924   0.7896544  -1.601526    0.5865355   1.1494936   1.1661868\n",
      " -1.1344384   1.043717   -0.7790492   0.18972284 -0.85076594 -1.6685205\n",
      "  0.73231894 -1.8720891  -0.24778727 -1.6037203   1.3303233   0.8409645\n",
      " -1.5437196   0.9280511  -0.59320545  0.28070664  2.2275817   1.1313806\n",
      " -1.2352105  -0.19132467  1.1321093  -1.4164228   0.8404772  -1.3175445\n",
      " -0.25822076 -0.6324476  -1.5743988   0.1063421   0.3943961  -0.3515177\n",
      " -1.1963247  -0.08399228  0.03401893 -1.835104   -1.3772931   1.2445118\n",
      "  0.775796    0.47001663 -0.2237867   1.0882697  -0.273854    0.26105633\n",
      " -1.4568983   0.50064784  1.1377786   0.16193746  1.0598673  -1.7278299\n",
      "  0.39116567  0.10690129 -0.15415096  0.4130669  -0.12707229  1.7995888\n",
      "  0.20318678  0.15944766  0.83594793 -0.6382092  -0.20169601 -1.1268358\n",
      " -0.43827063 -0.51937133  0.17747526 -0.17663679  0.63855416 -0.95272326\n",
      " -0.35062322  0.28042078  1.5213523   0.79143906 -1.2311021   2.0832152\n",
      " -1.2040079   1.3264873  -1.2264118  -0.11437748  1.1780124  -0.8382704\n",
      " -0.8374945  -1.0070682   0.6502847   0.3991553  -0.35480207 -0.19852419\n",
      " -0.6060516   0.26165503  0.5811068  -0.18948051  0.57360494  0.48113292\n",
      " -1.0075427  -0.6454332   0.81695276 -0.84882134 -0.09111119  1.3333201\n",
      " -0.86300516  0.38188478 -0.61092126  0.01967622  1.2362652   0.33070573\n",
      "  1.6027132  -0.17923202 -1.0908074   0.0808048  -1.299809   -0.00298059\n",
      "  1.1754777   0.775905    1.2367625  -0.09143427 -0.17226246 -0.1015584\n",
      " -0.7603301  -0.8803789   0.91195935 -0.42325822  1.0091239  -0.50579596\n",
      "  0.447119    1.8175763  -1.1872625   0.33383122 -0.13504733 -0.9511569\n",
      "  1.2228804   0.10809534  1.6491557   0.23700528  1.2944696   1.2134383\n",
      " -0.18254645 -0.462242    1.2991232   0.56451637  0.4083711  -1.0783203\n",
      "  0.01209655 -1.303382    0.2665808  -0.18698297 -1.7814858   0.58068\n",
      "  1.9240685   1.1191152  -0.5637767  -0.03219369  1.5223657  -0.19901347\n",
      "  0.8117162  -0.35166004  0.44745627  2.0624328   0.00786243  0.4845475\n",
      "  0.621018    1.1610525   1.3328501  -0.1059347   0.8935444   1.2729266\n",
      " -0.3966175  -0.66193277 -2.294899    0.758151    0.6088078  -1.099859\n",
      "  1.2014432   0.9454982   1.2372643   1.4419291   0.7133136  -0.3862225\n",
      " -1.2702969  -0.82187575  1.017691   -0.27138606  1.7116455  -1.1993482\n",
      "  0.53872275 -0.69697326  0.6792427  -0.800169   -0.637908    1.4126438\n",
      "  0.8088578   0.21554069  1.5438079   1.4486037   0.8915262  -0.87041336\n",
      " -0.26251844 -0.3835354  -1.1367521   0.17547065 -0.76883036 -0.16360667\n",
      "  0.36733344 -0.6113156   0.4339815  -0.0050483   1.6942532  -1.7754724\n",
      "  1.3753986  -0.29324177  0.6202551   0.37992403 -0.2335152   1.4711722\n",
      "  0.69827455  2.0769818   1.004786    0.50633246  0.3997279   0.59484535\n",
      " -0.43178603 -0.39941365  1.445985    0.04658503  0.6044054   1.9585587\n",
      "  0.38306788 -1.4253938  -0.7176246  -0.71264637  0.8989442  -0.37007466\n",
      "  1.4917554   1.7119116  -1.4987534   0.19697332  0.86649907 -0.6411608\n",
      "  0.1690508  -1.2287288  -0.22456016 -0.3981376   0.89594305 -0.6357562\n",
      "  0.2162726  -0.9951288   0.557822   -0.09133403  1.0448678  -0.8154488\n",
      "  1.0901859  -0.6086396  -0.4619954   1.2247899  -1.9836826  -0.49149263\n",
      "  0.4994826  -0.31349522  0.15109438  0.4772494   0.46590206 -0.9866195\n",
      "  0.14588584 -0.49925578  0.9496371  -0.623322   -0.5295251   0.5459161\n",
      "  0.23644508 -1.3199322  -0.942703   -0.990902   -1.9775382   1.872533  ]\n"
     ]
    }
   ],
   "source": [
    "\n",
    "for word in vocab[:5]:\n",
    "  print(word_vec_dict[word])"
   ]
  },
  {
   "cell_type": "code",
   "execution_count": 50,
   "metadata": {},
   "outputs": [],
   "source": [
    "df['clean_review']=df['review'].apply(clean_reviews)"
   ]
  },
  {
   "cell_type": "code",
   "execution_count": 51,
   "metadata": {},
   "outputs": [
    {
     "name": "stdout",
     "output_type": "stream",
     "text": [
      "1416\n"
     ]
    }
   ],
   "source": [
    "maxi=-1\n",
    "for i,rev in enumerate(df['clean_review']):\n",
    "    tokens=rev.split()\n",
    "    if(len(tokens)>maxi):\n",
    "        maxi=len(tokens)\n",
    "print(maxi)"
   ]
  },
  {
   "cell_type": "code",
   "execution_count": 52,
   "metadata": {},
   "outputs": [],
   "source": [
    "tok = Tokenizer()\n",
    "tok.fit_on_texts(df['clean_review'])\n",
    "vocab_size = len(tok.word_index) + 1\n",
    "encd_rev = tok.texts_to_sequences(df['clean_review'])"
   ]
  },
  {
   "cell_type": "code",
   "execution_count": 53,
   "metadata": {},
   "outputs": [],
   "source": [
    "max_rev_len=1565  # max lenght of a review\n",
    "vocab_size = len(tok.word_index) + 1  # total no of words\n",
    "embed_dim=300 # embedding dimension as choosen in word2vec constructor"
   ]
  },
  {
   "cell_type": "code",
   "execution_count": 54,
   "metadata": {},
   "outputs": [
    {
     "data": {
      "text/plain": [
       "(49582, 1565)"
      ]
     },
     "execution_count": 54,
     "metadata": {},
     "output_type": "execute_result"
    }
   ],
   "source": [
    "pad_rev= pad_sequences(encd_rev, maxlen=max_rev_len, padding='post')\n",
    "pad_rev.shape "
   ]
  },
  {
   "cell_type": "code",
   "execution_count": 55,
   "metadata": {},
   "outputs": [],
   "source": [
    "embed_matrix=np.zeros(shape=(vocab_size,embed_dim))\n",
    "for word,i in tok.word_index.items():\n",
    "  embed_vector=word_vec_dict.get(word)\n",
    "  if embed_vector is not None:  # word is in the vocabulary learned by the w2v model\n",
    "    embed_matrix[i]=embed_vector"
   ]
  },
  {
   "cell_type": "code",
   "execution_count": 56,
   "metadata": {},
   "outputs": [
    {
     "name": "stdout",
     "output_type": "stream",
     "text": [
      "[-5.60551405e-01  1.08146620e+00 -2.47498894e+00  1.94485709e-01\n",
      " -6.96085513e-01 -7.61532605e-01 -5.96140862e-01 -2.55405843e-01\n",
      " -1.53241873e+00 -8.27321291e-01  1.17890753e-01  2.05288097e-01\n",
      " -7.03116536e-01  1.69238180e-01  8.45117867e-01 -6.23604715e-01\n",
      "  4.45675641e-01 -1.44507974e-01  2.04112232e-01 -7.61811674e-01\n",
      "  2.88676560e-01  2.30818462e+00 -9.49603140e-01  1.11701973e-01\n",
      " -1.54446708e-02 -1.22321999e+00 -1.02290046e+00  8.40136707e-01\n",
      "  5.09345531e-01 -4.44202900e-01  7.62804151e-01 -1.10190190e-01\n",
      " -3.88903767e-01  9.06815827e-01 -3.75469893e-01  2.67408818e-01\n",
      " -1.14457250e-01  4.18266535e-01  3.67718428e-01 -7.28634357e-01\n",
      "  1.23401976e+00  7.14513421e-01 -8.81322145e-01  7.30834246e-01\n",
      "  1.91647753e-01  4.06617612e-01  7.13097095e-01 -9.98618174e-03\n",
      "  9.47039604e-01 -3.31332326e-01 -5.61643064e-01  1.07307076e+00\n",
      "  9.30146813e-01  3.13503981e-01  8.34563971e-01  2.23973137e-03\n",
      " -2.23661378e-01 -1.87813890e+00 -2.33411565e-01 -1.33717704e+00\n",
      "  7.34487057e-01  7.95362815e-02  5.00659764e-01 -1.60691008e-01\n",
      " -4.40230906e-01 -1.71511322e-01 -1.52115509e-01  6.23721898e-01\n",
      "  7.63169706e-01 -6.93996131e-01 -1.48243397e-01 -1.20431912e+00\n",
      " -1.11583352e+00  4.01781648e-01  3.09470534e-01  3.82448696e-02\n",
      " -4.86935556e-01 -5.04804850e-01  9.77770448e-01 -4.81372625e-01\n",
      "  8.06766450e-01  5.51924884e-01  4.80188996e-01 -3.72840524e-01\n",
      " -7.28076637e-01  1.30190110e+00 -1.22211367e-01  6.38317525e-01\n",
      "  1.79951325e-01 -1.81862101e-01 -9.35238242e-01  4.31074828e-01\n",
      "  1.12374485e+00  2.24876076e-01 -4.37402904e-01 -8.89329791e-01\n",
      " -4.29726809e-01  4.44161147e-01  1.11089885e+00 -2.87538528e-01\n",
      " -4.04694825e-01  5.56876242e-01 -6.38959527e-01 -1.06796062e+00\n",
      " -1.75593734e-01 -4.56277579e-01  4.54817057e-01 -2.28483230e-01\n",
      "  2.83883154e-01 -8.70694697e-01 -6.32263780e-01  1.47322130e+00\n",
      "  7.83810973e-01 -5.59843659e-01  1.48699731e-01 -6.10579312e-01\n",
      "  1.02838337e+00 -4.79216278e-01  1.27851423e-02  1.99728084e+00\n",
      "  2.87636548e-01  3.54177952e-01  4.97594237e-01 -1.05478609e+00\n",
      "  3.12646955e-01  4.32640523e-01 -2.05789320e-02  5.22252142e-01\n",
      " -8.23111236e-01  1.44457832e-01  7.28550673e-01 -1.96516797e-01\n",
      "  5.74108541e-01  1.06121451e-01 -8.87262464e-01  6.74847484e-01\n",
      "  3.58030796e-01  4.15643096e-01  4.24215734e-01  5.25520325e-01\n",
      " -3.75070721e-01  1.03298664e+00  1.10229347e-02 -4.86859977e-01\n",
      "  3.46083403e-01 -8.19984496e-01  9.76958126e-02 -1.18210614e+00\n",
      " -4.41054218e-02 -3.11091840e-02  2.59424388e-01  1.19030952e+00\n",
      "  6.97628677e-01 -2.01396361e-01 -4.44566697e-01 -1.62609845e-01\n",
      "  4.11586910e-01  1.86991006e-01  9.29485023e-01  4.62956309e-01\n",
      " -5.77673078e-01 -1.62370801e+00  8.08764577e-01 -1.52415144e+00\n",
      "  6.61249220e-01 -4.01290447e-01 -1.16222024e+00  2.05494717e-01\n",
      "  2.73794830e-01  5.47982097e-01  7.68692255e-01  5.22856772e-01\n",
      "  9.90453482e-01 -1.01764131e+00  3.87468249e-01 -1.08098447e+00\n",
      " -1.34424579e+00  2.92160600e-01  1.72060037e+00  1.55652750e+00\n",
      " -4.47836310e-01 -1.29711656e-02 -1.29852712e+00  8.33336294e-01\n",
      "  6.19916677e-01 -7.26889372e-01 -1.03220677e+00  8.80771220e-01\n",
      "  8.27519715e-01  1.33346692e-02  6.64721191e-01  3.16961765e-01\n",
      "  8.32706749e-01 -9.33893800e-01 -3.66240799e-01  7.38345027e-01\n",
      " -1.98376298e-01  4.58677322e-01  6.74805045e-01 -4.92869169e-01\n",
      " -6.39834464e-01 -1.79536700e-01  1.28061354e-01  1.52078360e-01\n",
      " -3.12051717e-02  2.26719514e-01 -1.91556271e-02 -1.60493359e-01\n",
      "  2.94200629e-01 -5.94351590e-01 -4.77327593e-02  4.76872474e-01\n",
      "  1.21502614e+00  8.63393724e-01  5.65336980e-02 -5.24119556e-01\n",
      "  8.84906799e-02 -1.17586052e+00 -1.10873961e+00  7.90494978e-02\n",
      " -8.89766812e-01 -1.01230061e+00  5.74397087e-01 -6.58970535e-01\n",
      "  1.78992057e+00  1.02395427e+00 -4.44600731e-01  3.03078383e-01\n",
      "  2.31301814e-01  4.95196640e-01 -8.83319378e-01  8.02487433e-01\n",
      "  1.21537971e+00 -3.62077534e-01  1.12500858e+00  4.27813739e-01\n",
      " -9.40606117e-01 -6.84976459e-01 -8.31571043e-01  2.06616545e+00\n",
      " -1.54856652e-01  6.80965126e-01  2.62722913e-02 -6.36492819e-02\n",
      " -1.71503890e+00  4.79345053e-01  2.58468330e-01 -2.47743309e-01\n",
      " -7.04266876e-02 -5.75257480e-01 -8.46812278e-02 -1.75165623e-01\n",
      " -1.20896530e+00  1.05939165e-01 -2.30171382e-02 -1.53511846e+00\n",
      "  1.68948263e-01 -3.58636171e-01 -8.52101207e-01 -4.98738378e-01\n",
      "  9.78037477e-01  4.87055898e-01  9.63810682e-01 -1.54478872e+00\n",
      "  8.26348126e-01 -1.87556267e+00  7.35249162e-01 -4.34405446e-01\n",
      " -4.98673409e-01  2.85315335e-01  5.12995243e-01 -2.28480119e-02\n",
      " -1.19106248e-02  6.60023332e-01 -3.43104273e-01  4.74378258e-01\n",
      " -9.24329221e-01  1.07340288e+00  4.90811132e-02 -2.66959757e-01\n",
      "  6.65485501e-01  1.68764377e+00 -6.54402435e-01  2.38033235e-01\n",
      "  4.69395608e-01  5.95501885e-02  1.47220194e+00  2.88895935e-01\n",
      " -1.01144463e-01  1.05678833e+00  4.28920507e-01 -8.18969488e-01\n",
      " -2.70583248e+00  3.54600787e-01 -1.45239580e+00 -1.19470489e+00\n",
      " -2.44869217e-01 -7.38818824e-01  3.26255262e-02 -8.02792847e-01]\n"
     ]
    }
   ],
   "source": [
    "print(embed_matrix[14])"
   ]
  },
  {
   "cell_type": "code",
   "execution_count": 57,
   "metadata": {},
   "outputs": [],
   "source": [
    "# prepare train and val sets first\n",
    "Y=keras.utils.to_categorical(df['sentiment'])  # one hot target as required by NN.\n",
    "x_train,x_test,y_train,y_test=train_test_split(pad_rev,Y,test_size=0.20,random_state=42)\n"
   ]
  },
  {
   "cell_type": "code",
   "execution_count": 58,
   "metadata": {},
   "outputs": [],
   "source": [
    "from keras.initializers import Constant\n",
    "from keras.layers import ReLU\n",
    "from keras.layers import Dropout\n",
    "model=Sequential()\n",
    "model.add(Embedding(input_dim=vocab_size,output_dim=embed_dim,input_length=max_rev_len,embeddings_initializer=Constant(embed_matrix)))\n",
    "# model.add(CuDNNLSTM(64,return_sequences=False)) # loss stucks at about \n",
    "model.add(Flatten())\n",
    "model.add(Dense(16,activation='relu'))\n",
    "model.add(Dropout(0.50))\n",
    "# model.add(Dense(16,activation='relu'))\n",
    "model.add(Dropout(0.20))\n",
    "model.add(Dense(2,activation='sigmoid'))"
   ]
  },
  {
   "cell_type": "code",
   "execution_count": 59,
   "metadata": {},
   "outputs": [
    {
     "name": "stdout",
     "output_type": "stream",
     "text": [
      "Model: \"sequential\"\n",
      "_________________________________________________________________\n",
      " Layer (type)                Output Shape              Param #   \n",
      "=================================================================\n",
      " embedding (Embedding)       (None, 1565, 300)         27519600  \n",
      "                                                                 \n",
      " flatten (Flatten)           (None, 469500)            0         \n",
      "                                                                 \n",
      " dense (Dense)               (None, 16)                7512016   \n",
      "                                                                 \n",
      " dropout (Dropout)           (None, 16)                0         \n",
      "                                                                 \n",
      " dropout_1 (Dropout)         (None, 16)                0         \n",
      "                                                                 \n",
      " dense_1 (Dense)             (None, 2)                 34        \n",
      "                                                                 \n",
      "=================================================================\n",
      "Total params: 35031650 (133.64 MB)\n",
      "Trainable params: 35031650 (133.64 MB)\n",
      "Non-trainable params: 0 (0.00 Byte)\n",
      "_________________________________________________________________\n"
     ]
    }
   ],
   "source": [
    "model.summary()"
   ]
  },
  {
   "cell_type": "code",
   "execution_count": 60,
   "metadata": {},
   "outputs": [],
   "source": [
    "from keras.optimizers import RMSprop\n",
    "model.compile(optimizer=\"RMSprop\",loss='binary_crossentropy',metrics=['accuracy'])\n"
   ]
  },
  {
   "cell_type": "code",
   "execution_count": 61,
   "metadata": {},
   "outputs": [],
   "source": [
    "epochs=5\n",
    "batch_size=64"
   ]
  },
  {
   "cell_type": "code",
   "execution_count": 62,
   "metadata": {},
   "outputs": [
    {
     "name": "stdout",
     "output_type": "stream",
     "text": [
      "Epoch 1/5\n",
      "620/620 [==============================] - 147s 237ms/step - loss: 0.5218 - accuracy: 0.7399 - val_loss: 0.4034 - val_accuracy: 0.8357\n",
      "Epoch 2/5\n",
      "620/620 [==============================] - 146s 235ms/step - loss: 0.4192 - accuracy: 0.7913 - val_loss: 0.3600 - val_accuracy: 0.8495\n",
      "Epoch 3/5\n",
      "620/620 [==============================] - 129s 209ms/step - loss: 0.3601 - accuracy: 0.8228 - val_loss: 0.3681 - val_accuracy: 0.8486\n",
      "Epoch 4/5\n",
      "620/620 [==============================] - 143s 230ms/step - loss: 0.3176 - accuracy: 0.8442 - val_loss: 0.3747 - val_accuracy: 0.8504\n",
      "Epoch 5/5\n",
      "620/620 [==============================] - 145s 233ms/step - loss: 0.2873 - accuracy: 0.8569 - val_loss: 0.3870 - val_accuracy: 0.8505\n"
     ]
    },
    {
     "data": {
      "text/plain": [
       "<keras.src.callbacks.History at 0x7fabbbba43a0>"
      ]
     },
     "execution_count": 62,
     "metadata": {},
     "output_type": "execute_result"
    }
   ],
   "source": [
    "model.fit(x_train,y_train,epochs=epochs,batch_size=batch_size,validation_data=(x_test,y_test))"
   ]
  },
  {
   "cell_type": "code",
   "execution_count": 63,
   "metadata": {},
   "outputs": [
    {
     "name": "stdout",
     "output_type": "stream",
     "text": [
      "310/310 [==============================] - 7s 21ms/step - loss: 0.3870 - accuracy: 0.8505\n"
     ]
    },
    {
     "data": {
      "text/plain": [
       "[0.3870149850845337, 0.8504588007926941]"
      ]
     },
     "execution_count": 63,
     "metadata": {},
     "output_type": "execute_result"
    }
   ],
   "source": [
    "model.evaluate(x_test,y_test)"
   ]
  },
  {
   "cell_type": "code",
   "execution_count": 67,
   "metadata": {},
   "outputs": [
    {
     "name": "stdout",
     "output_type": "stream",
     "text": [
      "1/1 [==============================] - 0s 34ms/step\n",
      "Positive\n"
     ]
    },
    {
     "ename": "",
     "evalue": "",
     "output_type": "error",
     "traceback": [
      "\u001b[1;31mThe Kernel crashed while executing code in the current cell or a previous cell. \n",
      "\u001b[1;31mPlease review the code in the cell(s) to identify a possible cause of the failure. \n",
      "\u001b[1;31mClick <a href='https://aka.ms/vscodeJupyterKernelCrash'>here</a> for more info. \n",
      "\u001b[1;31mView Jupyter <a href='command:jupyter.viewOutput'>log</a> for further details."
     ]
    }
   ],
   "source": [
    "test_sent=\"The movie was very good and I loved it\"\n",
    "# test_sent=\"The movie was very bad and I hated it\"\n",
    "test_sent=clean_reviews(test_sent)\n",
    "prediction = model.predict(pad_sequences(tok.texts_to_sequences([test_sent]),maxlen=max_rev_len,padding='post'))\n",
    "\n",
    "label = [\"NEgative\", \"Positive\"]\n",
    "print(label[np.argmax(prediction[0])])\n"
   ]
  }
 ],
 "metadata": {
  "kernelspec": {
   "display_name": "labenv",
   "language": "python",
   "name": "python3"
  },
  "language_info": {
   "codemirror_mode": {
    "name": "ipython",
    "version": 3
   },
   "file_extension": ".py",
   "mimetype": "text/x-python",
   "name": "python",
   "nbconvert_exporter": "python",
   "pygments_lexer": "ipython3",
   "version": "3.8.10"
  }
 },
 "nbformat": 4,
 "nbformat_minor": 2
}
